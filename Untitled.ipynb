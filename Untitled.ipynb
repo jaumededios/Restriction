{
 "cells": [
  {
   "cell_type": "code",
   "execution_count": 1,
   "metadata": {},
   "outputs": [],
   "source": [
    "import numpy as np\n",
    "from matplotlib import pyplot as plt"
   ]
  },
  {
   "cell_type": "markdown",
   "metadata": {},
   "source": [
    "Maximum dimension to compute"
   ]
  },
  {
   "cell_type": "code",
   "execution_count": 2,
   "metadata": {},
   "outputs": [],
   "source": [
    "MAX = 12"
   ]
  },
  {
   "cell_type": "markdown",
   "metadata": {},
   "source": [
    "Dimension, codimension, and gap using parameter count. \n",
    "\n",
    "$$ Gap = |\\text{Parameters in conjugacy group}| - |\\text{Parameters in bilinear form}| $$"
   ]
  },
  {
   "cell_type": "code",
   "execution_count": 3,
   "metadata": {},
   "outputs": [],
   "source": [
    "c = np.linspace(0,MAX+1,MAX+2)\n",
    "c,d = np.meshgrid(c,c)\n",
    "gap = (c**2+d**2-1 - c*d*(d+1)/2)"
   ]
  },
  {
   "cell_type": "markdown",
   "metadata": {},
   "source": [
    "Same as above, but continuous. Used to plot the continuous red line below"
   ]
  },
  {
   "cell_type": "code",
   "execution_count": 4,
   "metadata": {},
   "outputs": [],
   "source": [
    "c2 = np.linspace(-1,MAX+1,1000)\n",
    "c2,d2 = np.meshgrid(c2,c2)\n",
    "gap2 = (c2**2+d2**2-1 - c2*d2*(d2+1)/2)"
   ]
  },
  {
   "cell_type": "markdown",
   "metadata": {},
   "source": [
    "Plot the matrix"
   ]
  },
  {
   "cell_type": "code",
   "execution_count": 5,
   "metadata": {},
   "outputs": [
    {
     "data": {
      "image/png": "[encoded data removed]",
      "text/plain": [
       "<Figure size 432x288 with 1 Axes>"
      ]
     },
     "metadata": {},
     "output_type": "display_data"
    }
   ],
   "source": [
    "plt.pcolormesh(c-.5,d-.5,(gap>0)+0.+(gap>=0), edgecolors='w', linewidth=3)\n",
    "plt.contour(c2,d2,gap2,[-.05,0,.05], colors='r')\n",
    "\n",
    "plt.axis('scaled'), plt.title('Dimension gap')\n",
    "plt.xlim(-.6,MAX+.6),      plt.ylim(-.6,MAX+.6)\n",
    "plt.xlabel('Codimension'), plt.ylabel('Dimension')\n",
    "\n",
    "plt.savefig('finite_parameters.png',dpi=200)"
   ]
  },
  {
   "cell_type": "markdown",
   "metadata": {},
   "source": [
    "Construct random biliear forms and random matrices for the rank computation"
   ]
  },
  {
   "cell_type": "code",
   "execution_count": 31,
   "metadata": {},
   "outputs": [],
   "source": [
    "def randomNormal(n):\n",
    "    return  np.random.normal(size=(n,n))\n",
    "    \n",
    "def randomSymmetric(n):\n",
    "    M = randomNormal(n)\n",
    "    return (M+M.T)/2"
   ]
  },
  {
   "cell_type": "markdown",
   "metadata": {},
   "source": [
    "Monte-Carlo version of the method above. The algoritm is the following:\n",
    "\n",
    "* Start with a random bilinear form\n",
    "* Choose enough random directions on the (tangent of the) linear group acting\n",
    "* Compute the derivative of the group action in that direction\n",
    "* Check the rank of the matrix built with those derivatives (more precisely if they have full rank)"
   ]
  },
  {
   "cell_type": "code",
   "execution_count": 149,
   "metadata": {},
   "outputs": [],
   "source": [
    "def rank_deficit(cod,dim):\n",
    "    result = []\n",
    "    mats = np.array([randomSymmetric(dim) for i in range(cod)])\n",
    "    for i in range(dim*(dim+1)*cod):\n",
    "        MOut = randomNormal(cod)\n",
    "        MIn = randomNormal(dim)\n",
    "        #original nonlinear \"abc,eb,fc,ad->def\", mats,MIn,MIn,MOut\n",
    "        res = np.einsum(\"abc,eb->aec\", mats, MIn) +\\\n",
    "              np.einsum(\"abc,fc->abf\", mats, MIn) +\\\n",
    "              np.einsum(\"abc,ad->dbc\", mats, MOut) \n",
    "        result.append(res.flatten())\n",
    "\n",
    "    return np.linalg.matrix_rank(result)-dim*(dim+1)/2.*cod"
   ]
  },
  {
   "cell_type": "markdown",
   "metadata": {},
   "source": [
    "Iterate the code above - should be self-explanatory"
   ]
  },
  {
   "cell_type": "code",
   "execution_count": 157,
   "metadata": {},
   "outputs": [],
   "source": [
    "defs = [[rank_deficit(cod,dim)  for cod in range(13)] for dim in range(13)]"
   ]
  },
  {
   "cell_type": "code",
   "execution_count": 163,
   "metadata": {},
   "outputs": [
    {
     "data": {
      "image/png": "[encoded data removed]",
      "text/plain": [
       "<Figure size 432x288 with 1 Axes>"
      ]
     },
     "metadata": {},
     "output_type": "display_data"
    }
   ],
   "source": [
    "gap = -np.array(defs)\n",
    "c = np.linspace(0,12,13)\n",
    "c,d = np.meshgrid(c,c)\n",
    "\n",
    "plt.pcolormesh(c-.5,d-.5,(gap>0)+0.+(gap>=0), edgecolors='w', linewidth=3)\n",
    "plt.contour(c2,d2,gap2,[-.05,0,.05], colors='r')\n",
    "plt.axis('scaled'), plt.title('Dimension gap, MonteCarlo')\n",
    "plt.xlim(-.6,11+.6),      plt.ylim(-.6,11+.6)\n",
    "plt.xlabel('Codimension'), plt.ylabel('Dimension')\n",
    "\n",
    "plt.savefig('finite_parameters_MC.png',dpi=200)"
   ]
  },
  {
   "cell_type": "code",
   "execution_count": null,
   "metadata": {},
   "outputs": [],
   "source": []
  }
 ],
 "metadata": {
  "kernelspec": {
   "display_name": "Python 3",
   "language": "python",
   "name": "python3"
  },
  "language_info": {
   "codemirror_mode": {
    "name": "ipython",
    "version": 3
   },
   "file_extension": ".py",
   "mimetype": "text/x-python",
   "name": "python",
   "nbconvert_exporter": "python",
   "pygments_lexer": "ipython3",
   "version": "3.6.4"
  }
 },
 "nbformat": 4,
 "nbformat_minor": 2
}
